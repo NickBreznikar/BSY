{
 "cells": [
  {
   "cell_type": "code",
   "execution_count": 86,
   "metadata": {},
   "outputs": [
    {
     "data": {
      "image/png": "[encoded data removed]",
      "text/plain": [
       "<Figure size 432x288 with 1 Axes>"
      ]
     },
     "metadata": {
      "needs_background": "light"
     },
     "output_type": "display_data"
    },
    {
     "data": {
      "text/plain": [
       "'\\nWhat do we see?\\nMan sieht das kleine Abstände häufiger auftauchen als große Zahlenabstände.\\nDer Verlauf ist hier annähernd linear.\\n'"
      ]
     },
     "execution_count": 86,
     "metadata": {},
     "output_type": "execute_result"
    }
   ],
   "source": [
    "import random\n",
    "import matplotlib.pyplot\n",
    "\n",
    "size = 600000\n",
    "gaps = []\n",
    "\n",
    "maxRand=1000\n",
    "\n",
    "lastNumber = randint(0,maxRand)\n",
    "\n",
    "for x in range(0, size):\n",
    "    randomNumber = randint(0,maxRand)\n",
    "    \n",
    "    gaps.append(abs(lastNumber - randomNumber))\n",
    "    \n",
    "    lastNumber = randomNumber\n",
    "        \n",
    "gaps.sort()\n",
    "        \n",
    "pyplot.hist(gaps, \n",
    "            bins=50, \n",
    "            range=None, \n",
    "            density=False, \n",
    "            weights=None, \n",
    "            cumulative=False, \n",
    "            bottom=None, \n",
    "            histtype='bar', \n",
    "            align='mid', \n",
    "            orientation='vertical', \n",
    "            rwidth=None, \n",
    "            log=False, \n",
    "            color=None, \n",
    "            label=None, \n",
    "            stacked=False,  \n",
    "            data=None)\n",
    "pyplot.show()\n",
    "\n",
    "'''\n",
    "What do we see?\n",
    "Man sieht das kleine Abstände häufiger auftauchen als große Zahlenabstände.\n",
    "Der Verlauf ist hier annähernd linear.\n",
    "'''\n"
   ]
  },
  {
   "cell_type": "code",
   "execution_count": null,
   "metadata": {},
   "outputs": [],
   "source": []
  }
 ],
 "metadata": {
  "kernelspec": {
   "display_name": "Python 3",
   "language": "python",
   "name": "python3"
  },
  "language_info": {
   "codemirror_mode": {
    "name": "ipython",
    "version": 3
   },
   "file_extension": ".py",
   "mimetype": "text/x-python",
   "name": "python",
   "nbconvert_exporter": "python",
   "pygments_lexer": "ipython3",
   "version": "3.7.6"
  }
 },
 "nbformat": 4,
 "nbformat_minor": 4
}
