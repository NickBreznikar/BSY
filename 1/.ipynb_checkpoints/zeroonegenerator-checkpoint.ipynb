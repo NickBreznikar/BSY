{
 "cells": [
  {
   "cell_type": "code",
   "execution_count": null,
   "metadata": {},
   "outputs": [],
   "source": [
    "import random as rnd\n",
    "import matplotlib.pyplot\n",
    "import numpy as np\n",
    "\n",
    "size = 1000000\n",
    "randomNumbers = []\n",
    "\n",
    "for x in range(0, size):\n",
    "    \n",
    "    randomNumbers.append(np.random.uniform())\n",
    "    \n",
    "sum = numpy.sum(randomNumbers)\n",
    "\n",
    "expextedValue = 0,5\n",
    "middle = sum/size\n",
    "    \n",
    "print(\"Für \" + str(size) + \" generierten Zahlen:\")\n",
    "print(\"Mittelwert: \" + str(middle))\n",
    "print(\"Varianz: \" + str(np.var(randomNumbers)))\n",
    "print(\"Unser Erwartungswert ist: \" + str(expectedValue) + \", er weicht um: \" + str(abs(expextedValue - middle)) + \" ab.\")\n",
    "\n"
   ]
  },
  {
   "cell_type": "code",
   "execution_count": null,
   "metadata": {},
   "outputs": [],
   "source": []
  }
 ],
 "metadata": {
  "kernelspec": {
   "display_name": "Python 3",
   "language": "python",
   "name": "python3"
  },
  "language_info": {
   "codemirror_mode": {
    "name": "ipython",
    "version": 3
   },
   "file_extension": ".py",
   "mimetype": "text/x-python",
   "name": "python",
   "nbconvert_exporter": "python",
   "pygments_lexer": "ipython3",
   "version": "3.7.6"
  }
 },
 "nbformat": 4,
 "nbformat_minor": 4
}
